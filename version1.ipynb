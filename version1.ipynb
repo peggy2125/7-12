{
 "cells": [
  {
   "cell_type": "code",
   "execution_count": 1,
   "metadata": {},
   "outputs": [],
   "source": [
    "import cv2\n",
    "import numpy as np\n",
    "import time\n",
    "import os"
   ]
  },
  {
   "cell_type": "code",
   "execution_count": 2,
   "metadata": {},
   "outputs": [],
   "source": [
    "def trace_contours(image):\n",
    "    gray = cv2.cvtColor(image, cv2.COLOR_BGR2GRAY)\n",
    "    _, thresh = cv2.threshold(gray, 0, 255, cv2.THRESH_BINARY_INV + cv2.THRESH_OTSU)\n",
    "    contours, _ = cv2.findContours(thresh, cv2.RETR_TREE, cv2.CHAIN_APPROX_SIMPLE)\n",
    "    return contours"
   ]
  },
  {
   "cell_type": "code",
   "execution_count": 6,
   "metadata": {},
   "outputs": [],
   "source": [
    "def process_image(image_path, background_path):\n",
    "    # Load the image in grayscale\n",
    "    image = cv2.imread(image_path, cv2.IMREAD_GRAYSCALE)   #使用 OpenCV 函數 cv2.imread() 以灰度模式讀取圖像,並將其存儲在image變數中\n",
    "    background = cv2.imread(background_path, cv2.IMREAD_GRAYSCALE)   #使用 OpenCV 函數 cv2.imread() 以灰度模式讀取背景圖像,並將其存儲在background變數中。\n",
    "    background = cv2.imread('Test_images/Slight under focus/0066.tiff')\n",
    "    blurred_bg = cv2.GaussianBlur(background, (5, 5), 0)    #使用 OpenCV 函數 cv2.GaussianBlur() 對\"背景圖像\"進行高斯模糊處理(低通濾波，降低noise與柔化),以平滑背景細節。(5, 5)是高斯核(模糊的程度,值越大,模糊效果越強)的大小,0是標準差。\n",
    "    cv2.imshow('raw', image)  #使用 OpenCV 函數 cv2.imshow() 在一個名為 'raw' 的窗口中顯示原始圖像\n",
    "    kernel = cv2.getStructuringElement(cv2.MORPH_CROSS, (3, 3))   #使用 OpenCV 函數 cv2.getStructuringElement() 創建一個 3x3 的十字形結構元素,用於後續的形態學操作。"
   ]
  },
  {
   "cell_type": "code",
   "execution_count": 7,
   "metadata": {},
   "outputs": [],
   "source": [
    "\n",
    "start_time = time.time()  #將值儲存在start time中用以計算時間長"
   ]
  },
  {
   "cell_type": "code",
   "execution_count": 8,
   "metadata": {},
   "outputs": [
    {
     "ename": "IndentationError",
     "evalue": "unexpected indent (994306107.py, line 2)",
     "output_type": "error",
     "traceback": [
      "\u001b[1;36m  Cell \u001b[1;32mIn[8], line 2\u001b[1;36m\u001b[0m\n\u001b[1;33m    blurred = cv2.GaussianBlur(image, (5, 5), 0)  #使用 OpenCV 的 cv2.GaussianBlur() 函數對image變量進行高斯模糊處理\u001b[0m\n\u001b[1;37m    ^\u001b[0m\n\u001b[1;31mIndentationError\u001b[0m\u001b[1;31m:\u001b[0m unexpected indent\n"
     ]
    }
   ],
   "source": [
    " # Apply Gaussian blur to smooth the image\n",
    "blurred = cv2.GaussianBlur(image, (5, 5), 0)  #使用 OpenCV 的 cv2.GaussianBlur() 函數對image變量進行高斯模糊處理\n",
    "cv2.imshow('blurred', blurred)  #使用 OpenCV 的 cv2.imshow() 函數在一個名為 'blurred' 的窗口中顯示模糊處理後的圖像\n",
    "blurred_bg = cv2.GaussianBlur(background, (5, 5), 0)    #使用 OpenCV 函數 cv2.GaussianBlur() 對\"背景圖像\"進行高斯模糊處理(低通濾波，降低noise與柔化),以平滑背景細節。(5, 5)是高斯核(模糊的程度,值越大,模糊效果越強)的大小,0是標準差。\n",
    "cv2.imshow('raw', image)  #使用 OpenCV 函數 cv2.imshow() 在一個名為 'raw' 的窗口中顯示原始圖像\n",
    "kernel = cv2.getStructuringElement(cv2.MORPH_CROSS, (3, 3))   #使用 OpenCV 函數 cv2.getStructuringElement() 創建一個 3x3 的十字形結構元素,用於後續的形態學操作。\n",
    "    # Background subtraction 去背\n",
    "print(blurred.shape, blurred_bg.shape)  #顯示了模糊後的圖像blurred和模糊背景blurred_bg的維度,用於確認兩者的尺寸是否一致\n",
    "bg_sub = cv2.subtract(blurred_bg, blurred)  #使用 OpenCV 的 cv2.subtract() 函數從模糊背景blurred_bg中減去模糊後的圖像blurred。這個操作可以突出圖像中的前景區域,因為前景區域與背景的差異會被保留下來。\n",
    "cv2.imshow('bg_sub', bg_sub)   #使用 OpenCV 的 cv2.imshow() 函數在一個名為 'bg_sub' 的窗口中顯示背景減除的結果"
   ]
  },
  {
   "cell_type": "code",
   "execution_count": null,
   "metadata": {},
   "outputs": [],
   "source": [
    "# Apply threshold 設定閾值，二極化處理(大於或小於閾值為黑或白)\n",
    "    _, binary = cv2.threshold(bg_sub, 10, 255, cv2.THRESH_BINARY)  #cv2.threshold() 函數用於對輸入圖像進行二值化處理，10設置了二值化的閾值(像素值大於 10 時,該像素將被設置為 255(白色),否則設置為 0(黑色)\n",
    "    # binary = cv2.adaptiveThreshold(bg_sub, 255, cv2.ADAPTIVE_THRESH_MEAN_C, cv2.THRESH_BINARY, 3, 2)\n",
    "    cv2.imshow('binary', binary)    #使用 OpenCV 的 cv2.imshow() 函數在一個名為 'binary' 的窗口中顯示二極化的結果\n"
   ]
  },
  {
   "cell_type": "code",
   "execution_count": null,
   "metadata": {},
   "outputs": [],
   "source": [
    " # Erode and dilate to remove noise\n",
    "    dilate1 = cv2.dilate(binary, kernel, iterations = 2)  # cv2.dilate() 函數對二值化後的圖像 binary 進行膨脹操作，kernel 定義膨脹的模式，iterations = 2 指定了膨脹操作重複進行的次數，總體可填補一些小的洞洞,使前景物體更加連續\n",
    "    cv2.imshow('dilate1', dilate1)   #使用 OpenCV 的 cv2.imshow() 函數在一個名為 'dilate1' 的窗口中顯示膨脹的結果\n",
    "    erode1 = cv2.erode(dilate1, kernel, iterations = 2)  #使用 cv2.erode() 函數對膨脹後的圖像 dilate1 進行腐蝕操作，去除一些小的雜訊\n",
    "    cv2.imshow('erode1', erode1)\n",
    "    erode2 = cv2.erode(erode1, kernel, iterations = 1)  #再次對 erode1 進行腐蝕操作,以進一步去除雜訊\n",
    "    cv2.imshow('erode2', erode2)\n",
    "    dilate2 = cv2.dilate(erode2, kernel, iterations = 1)  #最後,對 erode2 進行一次膨脹操作,以彌補之前腐蝕造成的一些細節損失\n",
    "    cv2.imshow('dilate2', dilate2)  \n"
   ]
  },
  {
   "cell_type": "code",
   "execution_count": null,
   "metadata": {},
   "outputs": [],
   "source": [
    "\n",
    "    # Apply Canny edge detector to find edges\n",
    "    edges = cv2.Canny(erode2, 50, 150)  #使用了 OpenCV 的 cv2.Canny() 函數對圖像 erode2 進行Canny邊緣檢測，50 是低閾值,小於該值的邊緣將被抑制。150 是高閾值,大於該值的邊緣將被保留。\n",
    "    cv2.imshow('canny edges', edges)  #白色部分表示檢測到的邊緣,黑色部分表示非邊緣區域\n",
    "\n",
    "    # Trace contours from the edge image    對canny進行輪廓追蹤\n",
    "    contours = trace_contours(edges)  #使用了一個名為 trace_contours() 的函數(自訂義),並將 edges 圖像傳遞進去。這個函數用來檢測和跟蹤圖像中的輪廓\n"
   ]
  },
  {
   "cell_type": "code",
   "execution_count": null,
   "metadata": {},
   "outputs": [],
   "source": [
    "  end_time = time.time()\n",
    "    dif_time = end_time - start_time  #計算總花費時間\n",
    "    print(dif_time)"
   ]
  },
  {
   "cell_type": "code",
   "execution_count": null,
   "metadata": {},
   "outputs": [],
   "source": [
    "# Prepare an image to draw the contours\n",
    "    contour_image = np.zeros_like(image)  #創建了一個與原始圖像 image 大小相同的全0矩陣,即一個全黑的圖像,並將其賦值給 contour_image 變量，可以在上面單獨繪製輪廓而不影響到原始圖像\n",
    "\n",
    "    # Draw each contour\n",
    "    for contour in contours:  #使用 for 循環遍歷所有檢測到的輪廓(contours列表)。\n",
    "        for x, y in contour:  #對於每個輪廓(contour),它又使用 for 循環遍歷該輪廓上的每個點(x, y)。\n",
    "            contour_image[x, y] = 255 #對於每個點,它將 contour_image 中對應的像素值設為 255,即白色。"
   ]
  },
  {
   "cell_type": "code",
   "execution_count": null,
   "metadata": {},
   "outputs": [],
   "source": [
    "# Show the resulting image\n",
    "    cv2.imshow('Processed Image', contour_image)  #顯示結果圖像在processed image中\n",
    "    cv2.waitKey(0)  #使程序暫停,等待用戶按下任意鍵，可以確保圖像窗口一直保持打開,直到用戶手動關閉它\n",
    "    cv2.destroyAllWindows()  #在用戶按下任意鍵後,會關閉所有由 OpenCV 創建的窗口"
   ]
  },
  {
   "cell_type": "code",
   "execution_count": null,
   "metadata": {},
   "outputs": [],
   "source": [
    "# Replace 'path_to_image.tif' with your image file path\n",
    "process_image('Test_images/Slight under focus/0066.tiff', 'Test_images/Slight under focus/background.tiff')"
   ]
  }
 ],
 "metadata": {
  "kernelspec": {
   "display_name": "myenv",
   "language": "python",
   "name": "python3"
  },
  "language_info": {
   "codemirror_mode": {
    "name": "ipython",
    "version": 3
   },
   "file_extension": ".py",
   "mimetype": "text/x-python",
   "name": "python",
   "nbconvert_exporter": "python",
   "pygments_lexer": "ipython3",
   "version": "3.9.19"
  }
 },
 "nbformat": 4,
 "nbformat_minor": 2
}
